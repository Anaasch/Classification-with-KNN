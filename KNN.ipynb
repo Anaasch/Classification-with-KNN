{
  "nbformat": 4,
  "nbformat_minor": 0,
  "metadata": {
    "colab": {
      "provenance": [],
      "toc_visible": true
    },
    "kernelspec": {
      "name": "python3",
      "display_name": "Python 3"
    },
    "language_info": {
      "name": "python"
    }
  },
  "cells": [
    {
      "cell_type": "code",
      "execution_count": null,
      "metadata": {
        "id": "CeV4X7_el_ei"
      },
      "outputs": [],
      "source": [
        "import numpy as np\n",
        "import pandas as pd\n",
        "import matplotlib.pyplot as plt\n",
        "import seaborn as sns"
      ]
    },
    {
      "cell_type": "markdown",
      "source": [
        "offline importation"
      ],
      "metadata": {
        "id": "FIojMwWHVo3p"
      }
    },
    {
      "cell_type": "code",
      "source": [
        "data_train=pd.read_csv('/content/MNIST_train.csv')\n",
        "data_test=pd.read_csv('/content/MNIST_test.csv')"
      ],
      "metadata": {
        "id": "0sBVSZF8Vnx_"
      },
      "execution_count": null,
      "outputs": []
    },
    {
      "cell_type": "code",
      "source": [
        "data_train.head(10)"
      ],
      "metadata": {
        "id": "G7xUvqz1CKDT",
        "colab": {
          "base_uri": "https://localhost:8080/",
          "height": 456
        },
        "outputId": "3cddf37b-70ae-453f-8083-bec10aa69402"
      },
      "execution_count": null,
      "outputs": [
        {
          "output_type": "execute_result",
          "data": {
            "text/plain": [
              "   label  1x1  1x2  1x3  1x4  1x5  1x6  1x7  1x8  1x9  ...  28x19  28x20  \\\n",
              "0      5    0    0    0    0    0    0    0    0    0  ...      0      0   \n",
              "1      0    0    0    0    0    0    0    0    0    0  ...      0      0   \n",
              "2      4    0    0    0    0    0    0    0    0    0  ...      0      0   \n",
              "3      1    0    0    0    0    0    0    0    0    0  ...      0      0   \n",
              "4      9    0    0    0    0    0    0    0    0    0  ...      0      0   \n",
              "5      2    0    0    0    0    0    0    0    0    0  ...      0      0   \n",
              "6      1    0    0    0    0    0    0    0    0    0  ...      0      0   \n",
              "7      3    0    0    0    0    0    0    0    0    0  ...      0      0   \n",
              "8      1    0    0    0    0    0    0    0    0    0  ...      0      0   \n",
              "9      4    0    0    0    0    0    0    0    0    0  ...      0      0   \n",
              "\n",
              "   28x21  28x22  28x23  28x24  28x25  28x26  28x27  28x28  \n",
              "0      0      0      0      0      0      0      0      0  \n",
              "1      0      0      0      0      0      0      0      0  \n",
              "2      0      0      0      0      0      0      0      0  \n",
              "3      0      0      0      0      0      0      0      0  \n",
              "4      0      0      0      0      0      0      0      0  \n",
              "5      0      0      0      0      0      0      0      0  \n",
              "6      0      0      0      0      0      0      0      0  \n",
              "7      0      0      0      0      0      0      0      0  \n",
              "8      0      0      0      0      0      0      0      0  \n",
              "9      0      0      0      0      0      0      0      0  \n",
              "\n",
              "[10 rows x 785 columns]"
            ],
            "text/html": [
              "\n",
              "  <div id=\"df-4701af6b-a3a2-4413-9803-7a5e614db2e0\">\n",
              "    <div class=\"colab-df-container\">\n",
              "      <div>\n",
              "<style scoped>\n",
              "    .dataframe tbody tr th:only-of-type {\n",
              "        vertical-align: middle;\n",
              "    }\n",
              "\n",
              "    .dataframe tbody tr th {\n",
              "        vertical-align: top;\n",
              "    }\n",
              "\n",
              "    .dataframe thead th {\n",
              "        text-align: right;\n",
              "    }\n",
              "</style>\n",
              "<table border=\"1\" class=\"dataframe\">\n",
              "  <thead>\n",
              "    <tr style=\"text-align: right;\">\n",
              "      <th></th>\n",
              "      <th>label</th>\n",
              "      <th>1x1</th>\n",
              "      <th>1x2</th>\n",
              "      <th>1x3</th>\n",
              "      <th>1x4</th>\n",
              "      <th>1x5</th>\n",
              "      <th>1x6</th>\n",
              "      <th>1x7</th>\n",
              "      <th>1x8</th>\n",
              "      <th>1x9</th>\n",
              "      <th>...</th>\n",
              "      <th>28x19</th>\n",
              "      <th>28x20</th>\n",
              "      <th>28x21</th>\n",
              "      <th>28x22</th>\n",
              "      <th>28x23</th>\n",
              "      <th>28x24</th>\n",
              "      <th>28x25</th>\n",
              "      <th>28x26</th>\n",
              "      <th>28x27</th>\n",
              "      <th>28x28</th>\n",
              "    </tr>\n",
              "  </thead>\n",
              "  <tbody>\n",
              "    <tr>\n",
              "      <th>0</th>\n",
              "      <td>5</td>\n",
              "      <td>0</td>\n",
              "      <td>0</td>\n",
              "      <td>0</td>\n",
              "      <td>0</td>\n",
              "      <td>0</td>\n",
              "      <td>0</td>\n",
              "      <td>0</td>\n",
              "      <td>0</td>\n",
              "      <td>0</td>\n",
              "      <td>...</td>\n",
              "      <td>0</td>\n",
              "      <td>0</td>\n",
              "      <td>0</td>\n",
              "      <td>0</td>\n",
              "      <td>0</td>\n",
              "      <td>0</td>\n",
              "      <td>0</td>\n",
              "      <td>0</td>\n",
              "      <td>0</td>\n",
              "      <td>0</td>\n",
              "    </tr>\n",
              "    <tr>\n",
              "      <th>1</th>\n",
              "      <td>0</td>\n",
              "      <td>0</td>\n",
              "      <td>0</td>\n",
              "      <td>0</td>\n",
              "      <td>0</td>\n",
              "      <td>0</td>\n",
              "      <td>0</td>\n",
              "      <td>0</td>\n",
              "      <td>0</td>\n",
              "      <td>0</td>\n",
              "      <td>...</td>\n",
              "      <td>0</td>\n",
              "      <td>0</td>\n",
              "      <td>0</td>\n",
              "      <td>0</td>\n",
              "      <td>0</td>\n",
              "      <td>0</td>\n",
              "      <td>0</td>\n",
              "      <td>0</td>\n",
              "      <td>0</td>\n",
              "      <td>0</td>\n",
              "    </tr>\n",
              "    <tr>\n",
              "      <th>2</th>\n",
              "      <td>4</td>\n",
              "      <td>0</td>\n",
              "      <td>0</td>\n",
              "      <td>0</td>\n",
              "      <td>0</td>\n",
              "      <td>0</td>\n",
              "      <td>0</td>\n",
              "      <td>0</td>\n",
              "      <td>0</td>\n",
              "      <td>0</td>\n",
              "      <td>...</td>\n",
              "      <td>0</td>\n",
              "      <td>0</td>\n",
              "      <td>0</td>\n",
              "      <td>0</td>\n",
              "      <td>0</td>\n",
              "      <td>0</td>\n",
              "      <td>0</td>\n",
              "      <td>0</td>\n",
              "      <td>0</td>\n",
              "      <td>0</td>\n",
              "    </tr>\n",
              "    <tr>\n",
              "      <th>3</th>\n",
              "      <td>1</td>\n",
              "      <td>0</td>\n",
              "      <td>0</td>\n",
              "      <td>0</td>\n",
              "      <td>0</td>\n",
              "      <td>0</td>\n",
              "      <td>0</td>\n",
              "      <td>0</td>\n",
              "      <td>0</td>\n",
              "      <td>0</td>\n",
              "      <td>...</td>\n",
              "      <td>0</td>\n",
              "      <td>0</td>\n",
              "      <td>0</td>\n",
              "      <td>0</td>\n",
              "      <td>0</td>\n",
              "      <td>0</td>\n",
              "      <td>0</td>\n",
              "      <td>0</td>\n",
              "      <td>0</td>\n",
              "      <td>0</td>\n",
              "    </tr>\n",
              "    <tr>\n",
              "      <th>4</th>\n",
              "      <td>9</td>\n",
              "      <td>0</td>\n",
              "      <td>0</td>\n",
              "      <td>0</td>\n",
              "      <td>0</td>\n",
              "      <td>0</td>\n",
              "      <td>0</td>\n",
              "      <td>0</td>\n",
              "      <td>0</td>\n",
              "      <td>0</td>\n",
              "      <td>...</td>\n",
              "      <td>0</td>\n",
              "      <td>0</td>\n",
              "      <td>0</td>\n",
              "      <td>0</td>\n",
              "      <td>0</td>\n",
              "      <td>0</td>\n",
              "      <td>0</td>\n",
              "      <td>0</td>\n",
              "      <td>0</td>\n",
              "      <td>0</td>\n",
              "    </tr>\n",
              "    <tr>\n",
              "      <th>5</th>\n",
              "      <td>2</td>\n",
              "      <td>0</td>\n",
              "      <td>0</td>\n",
              "      <td>0</td>\n",
              "      <td>0</td>\n",
              "      <td>0</td>\n",
              "      <td>0</td>\n",
              "      <td>0</td>\n",
              "      <td>0</td>\n",
              "      <td>0</td>\n",
              "      <td>...</td>\n",
              "      <td>0</td>\n",
              "      <td>0</td>\n",
              "      <td>0</td>\n",
              "      <td>0</td>\n",
              "      <td>0</td>\n",
              "      <td>0</td>\n",
              "      <td>0</td>\n",
              "      <td>0</td>\n",
              "      <td>0</td>\n",
              "      <td>0</td>\n",
              "    </tr>\n",
              "    <tr>\n",
              "      <th>6</th>\n",
              "      <td>1</td>\n",
              "      <td>0</td>\n",
              "      <td>0</td>\n",
              "      <td>0</td>\n",
              "      <td>0</td>\n",
              "      <td>0</td>\n",
              "      <td>0</td>\n",
              "      <td>0</td>\n",
              "      <td>0</td>\n",
              "      <td>0</td>\n",
              "      <td>...</td>\n",
              "      <td>0</td>\n",
              "      <td>0</td>\n",
              "      <td>0</td>\n",
              "      <td>0</td>\n",
              "      <td>0</td>\n",
              "      <td>0</td>\n",
              "      <td>0</td>\n",
              "      <td>0</td>\n",
              "      <td>0</td>\n",
              "      <td>0</td>\n",
              "    </tr>\n",
              "    <tr>\n",
              "      <th>7</th>\n",
              "      <td>3</td>\n",
              "      <td>0</td>\n",
              "      <td>0</td>\n",
              "      <td>0</td>\n",
              "      <td>0</td>\n",
              "      <td>0</td>\n",
              "      <td>0</td>\n",
              "      <td>0</td>\n",
              "      <td>0</td>\n",
              "      <td>0</td>\n",
              "      <td>...</td>\n",
              "      <td>0</td>\n",
              "      <td>0</td>\n",
              "      <td>0</td>\n",
              "      <td>0</td>\n",
              "      <td>0</td>\n",
              "      <td>0</td>\n",
              "      <td>0</td>\n",
              "      <td>0</td>\n",
              "      <td>0</td>\n",
              "      <td>0</td>\n",
              "    </tr>\n",
              "    <tr>\n",
              "      <th>8</th>\n",
              "      <td>1</td>\n",
              "      <td>0</td>\n",
              "      <td>0</td>\n",
              "      <td>0</td>\n",
              "      <td>0</td>\n",
              "      <td>0</td>\n",
              "      <td>0</td>\n",
              "      <td>0</td>\n",
              "      <td>0</td>\n",
              "      <td>0</td>\n",
              "      <td>...</td>\n",
              "      <td>0</td>\n",
              "      <td>0</td>\n",
              "      <td>0</td>\n",
              "      <td>0</td>\n",
              "      <td>0</td>\n",
              "      <td>0</td>\n",
              "      <td>0</td>\n",
              "      <td>0</td>\n",
              "      <td>0</td>\n",
              "      <td>0</td>\n",
              "    </tr>\n",
              "    <tr>\n",
              "      <th>9</th>\n",
              "      <td>4</td>\n",
              "      <td>0</td>\n",
              "      <td>0</td>\n",
              "      <td>0</td>\n",
              "      <td>0</td>\n",
              "      <td>0</td>\n",
              "      <td>0</td>\n",
              "      <td>0</td>\n",
              "      <td>0</td>\n",
              "      <td>0</td>\n",
              "      <td>...</td>\n",
              "      <td>0</td>\n",
              "      <td>0</td>\n",
              "      <td>0</td>\n",
              "      <td>0</td>\n",
              "      <td>0</td>\n",
              "      <td>0</td>\n",
              "      <td>0</td>\n",
              "      <td>0</td>\n",
              "      <td>0</td>\n",
              "      <td>0</td>\n",
              "    </tr>\n",
              "  </tbody>\n",
              "</table>\n",
              "<p>10 rows × 785 columns</p>\n",
              "</div>\n",
              "      <button class=\"colab-df-convert\" onclick=\"convertToInteractive('df-4701af6b-a3a2-4413-9803-7a5e614db2e0')\"\n",
              "              title=\"Convert this dataframe to an interactive table.\"\n",
              "              style=\"display:none;\">\n",
              "        \n",
              "  <svg xmlns=\"http://www.w3.org/2000/svg\" height=\"24px\"viewBox=\"0 0 24 24\"\n",
              "       width=\"24px\">\n",
              "    <path d=\"M0 0h24v24H0V0z\" fill=\"none\"/>\n",
              "    <path d=\"M18.56 5.44l.94 2.06.94-2.06 2.06-.94-2.06-.94-.94-2.06-.94 2.06-2.06.94zm-11 1L8.5 8.5l.94-2.06 2.06-.94-2.06-.94L8.5 2.5l-.94 2.06-2.06.94zm10 10l.94 2.06.94-2.06 2.06-.94-2.06-.94-.94-2.06-.94 2.06-2.06.94z\"/><path d=\"M17.41 7.96l-1.37-1.37c-.4-.4-.92-.59-1.43-.59-.52 0-1.04.2-1.43.59L10.3 9.45l-7.72 7.72c-.78.78-.78 2.05 0 2.83L4 21.41c.39.39.9.59 1.41.59.51 0 1.02-.2 1.41-.59l7.78-7.78 2.81-2.81c.8-.78.8-2.07 0-2.86zM5.41 20L4 18.59l7.72-7.72 1.47 1.35L5.41 20z\"/>\n",
              "  </svg>\n",
              "      </button>\n",
              "      \n",
              "  <style>\n",
              "    .colab-df-container {\n",
              "      display:flex;\n",
              "      flex-wrap:wrap;\n",
              "      gap: 12px;\n",
              "    }\n",
              "\n",
              "    .colab-df-convert {\n",
              "      background-color: #E8F0FE;\n",
              "      border: none;\n",
              "      border-radius: 50%;\n",
              "      cursor: pointer;\n",
              "      display: none;\n",
              "      fill: #1967D2;\n",
              "      height: 32px;\n",
              "      padding: 0 0 0 0;\n",
              "      width: 32px;\n",
              "    }\n",
              "\n",
              "    .colab-df-convert:hover {\n",
              "      background-color: #E2EBFA;\n",
              "      box-shadow: 0px 1px 2px rgba(60, 64, 67, 0.3), 0px 1px 3px 1px rgba(60, 64, 67, 0.15);\n",
              "      fill: #174EA6;\n",
              "    }\n",
              "\n",
              "    [theme=dark] .colab-df-convert {\n",
              "      background-color: #3B4455;\n",
              "      fill: #D2E3FC;\n",
              "    }\n",
              "\n",
              "    [theme=dark] .colab-df-convert:hover {\n",
              "      background-color: #434B5C;\n",
              "      box-shadow: 0px 1px 3px 1px rgba(0, 0, 0, 0.15);\n",
              "      filter: drop-shadow(0px 1px 2px rgba(0, 0, 0, 0.3));\n",
              "      fill: #FFFFFF;\n",
              "    }\n",
              "  </style>\n",
              "\n",
              "      <script>\n",
              "        const buttonEl =\n",
              "          document.querySelector('#df-4701af6b-a3a2-4413-9803-7a5e614db2e0 button.colab-df-convert');\n",
              "        buttonEl.style.display =\n",
              "          google.colab.kernel.accessAllowed ? 'block' : 'none';\n",
              "\n",
              "        async function convertToInteractive(key) {\n",
              "          const element = document.querySelector('#df-4701af6b-a3a2-4413-9803-7a5e614db2e0');\n",
              "          const dataTable =\n",
              "            await google.colab.kernel.invokeFunction('convertToInteractive',\n",
              "                                                     [key], {});\n",
              "          if (!dataTable) return;\n",
              "\n",
              "          const docLinkHtml = 'Like what you see? Visit the ' +\n",
              "            '<a target=\"_blank\" href=https://colab.research.google.com/notebooks/data_table.ipynb>data table notebook</a>'\n",
              "            + ' to learn more about interactive tables.';\n",
              "          element.innerHTML = '';\n",
              "          dataTable['output_type'] = 'display_data';\n",
              "          await google.colab.output.renderOutput(dataTable, element);\n",
              "          const docLink = document.createElement('div');\n",
              "          docLink.innerHTML = docLinkHtml;\n",
              "          element.appendChild(docLink);\n",
              "        }\n",
              "      </script>\n",
              "    </div>\n",
              "  </div>\n",
              "  "
            ]
          },
          "metadata": {},
          "execution_count": 162
        }
      ]
    },
    {
      "cell_type": "code",
      "source": [
        "data_train.info()"
      ],
      "metadata": {
        "id": "Ka-2gpeBCKBS",
        "colab": {
          "base_uri": "https://localhost:8080/"
        },
        "outputId": "da89d772-3917-4d78-8ad3-5b8881c3bc97"
      },
      "execution_count": null,
      "outputs": [
        {
          "output_type": "stream",
          "name": "stdout",
          "text": [
            "<class 'pandas.core.frame.DataFrame'>\n",
            "RangeIndex: 60000 entries, 0 to 59999\n",
            "Columns: 785 entries, label to 28x28\n",
            "dtypes: int64(785)\n",
            "memory usage: 359.3 MB\n"
          ]
        }
      ]
    },
    {
      "cell_type": "code",
      "source": [
        "data_test.info()"
      ],
      "metadata": {
        "colab": {
          "base_uri": "https://localhost:8080/"
        },
        "id": "utMabl2NS48P",
        "outputId": "02432470-aacd-4e30-cd37-086ec65640ff"
      },
      "execution_count": null,
      "outputs": [
        {
          "output_type": "stream",
          "name": "stdout",
          "text": [
            "<class 'pandas.core.frame.DataFrame'>\n",
            "RangeIndex: 10000 entries, 0 to 9999\n",
            "Columns: 785 entries, label to 28x28\n",
            "dtypes: int64(785)\n",
            "memory usage: 59.9 MB\n"
          ]
        }
      ]
    },
    {
      "cell_type": "code",
      "source": [
        "sample_train=np.random.randint(8000,size=4000)\n",
        "sample_test=np.random.randint(6000,size=1000)"
      ],
      "metadata": {
        "id": "XrOUAjYfCJxJ"
      },
      "execution_count": null,
      "outputs": []
    },
    {
      "cell_type": "code",
      "source": [
        "d_train_sample=data_train.values[sample_train]\n",
        "d_test_sample=data_test.values[sample_test]"
      ],
      "metadata": {
        "id": "Va1tlYC4OBIu"
      },
      "execution_count": null,
      "outputs": []
    },
    {
      "cell_type": "code",
      "source": [
        "print(d_train_sample.shape)\n",
        "print(d_test_sample.shape)"
      ],
      "metadata": {
        "colab": {
          "base_uri": "https://localhost:8080/"
        },
        "id": "Rg-mYe75OFG4",
        "outputId": "2f82d47f-ad1e-4353-e2a3-6f50b419d738"
      },
      "execution_count": null,
      "outputs": [
        {
          "output_type": "stream",
          "name": "stdout",
          "text": [
            "(4000, 785)\n",
            "(1000, 785)\n"
          ]
        }
      ]
    },
    {
      "cell_type": "markdown",
      "source": [
        "**Data splitting**"
      ],
      "metadata": {
        "id": "3PMNwlHvHfEj"
      }
    },
    {
      "cell_type": "code",
      "source": [
        "x_train=d_train_sample[:,1:785]\n",
        "x_train.shape"
      ],
      "metadata": {
        "colab": {
          "base_uri": "https://localhost:8080/"
        },
        "id": "rehTb84TOH2v",
        "outputId": "f2f28864-5a17-4bd3-8855-8ac3cf68338f"
      },
      "execution_count": null,
      "outputs": [
        {
          "output_type": "execute_result",
          "data": {
            "text/plain": [
              "(4000, 784)"
            ]
          },
          "metadata": {},
          "execution_count": 168
        }
      ]
    },
    {
      "cell_type": "code",
      "source": [
        "y_train=d_train_sample[:,0:1]\n",
        "y_train.shape"
      ],
      "metadata": {
        "colab": {
          "base_uri": "https://localhost:8080/"
        },
        "id": "ulbwEPK4OH0w",
        "outputId": "5786015c-3929-4b55-f8d6-53b3d6a54bba"
      },
      "execution_count": null,
      "outputs": [
        {
          "output_type": "execute_result",
          "data": {
            "text/plain": [
              "(4000, 1)"
            ]
          },
          "metadata": {},
          "execution_count": 169
        }
      ]
    },
    {
      "cell_type": "code",
      "source": [
        "x_test = d_test_sample[:,1:785]\n",
        "x_test.shape"
      ],
      "metadata": {
        "colab": {
          "base_uri": "https://localhost:8080/"
        },
        "id": "5ebIZL_dJV4d",
        "outputId": "c18e3174-9d98-47f7-e168-02fc21d4e02d"
      },
      "execution_count": null,
      "outputs": [
        {
          "output_type": "execute_result",
          "data": {
            "text/plain": [
              "(1000, 784)"
            ]
          },
          "metadata": {},
          "execution_count": 170
        }
      ]
    },
    {
      "cell_type": "code",
      "source": [
        "y_test = d_test_sample[:,0:1]\n",
        "y_test.shape"
      ],
      "metadata": {
        "colab": {
          "base_uri": "https://localhost:8080/"
        },
        "id": "EWQ_iikIJVia",
        "outputId": "365c5684-7879-4a6d-eee7-7c08d9a05681"
      },
      "execution_count": null,
      "outputs": [
        {
          "output_type": "execute_result",
          "data": {
            "text/plain": [
              "(1000, 1)"
            ]
          },
          "metadata": {},
          "execution_count": 171
        }
      ]
    },
    {
      "cell_type": "markdown",
      "source": [
        "DATA NORMALIZATION"
      ],
      "metadata": {
        "id": "_-C8-02aU1Kj"
      }
    },
    {
      "cell_type": "code",
      "source": [
        "from sklearn.preprocessing import MinMaxScaler \n",
        "scaller=MinMaxScaler()"
      ],
      "metadata": {
        "id": "rMVeYbsuU0SL"
      },
      "execution_count": null,
      "outputs": []
    },
    {
      "cell_type": "code",
      "source": [
        "scaller.fit(x_train)\n",
        "x_train=scaller.transform(x_train)\n",
        "scaller.fit(x_test)\n",
        "x_test=scaller.transform(x_test)"
      ],
      "metadata": {
        "id": "yKU5Y-HWU0M-"
      },
      "execution_count": null,
      "outputs": []
    },
    {
      "cell_type": "code",
      "source": [
        "x_train"
      ],
      "metadata": {
        "colab": {
          "base_uri": "https://localhost:8080/"
        },
        "id": "A4seqrb8H86a",
        "outputId": "09b1d3d6-ec5f-406c-ec6f-6e84e5f674c9"
      },
      "execution_count": null,
      "outputs": [
        {
          "output_type": "execute_result",
          "data": {
            "text/plain": [
              "array([[0., 0., 0., ..., 0., 0., 0.],\n",
              "       [0., 0., 0., ..., 0., 0., 0.],\n",
              "       [0., 0., 0., ..., 0., 0., 0.],\n",
              "       ...,\n",
              "       [0., 0., 0., ..., 0., 0., 0.],\n",
              "       [0., 0., 0., ..., 0., 0., 0.],\n",
              "       [0., 0., 0., ..., 0., 0., 0.]])"
            ]
          },
          "metadata": {},
          "execution_count": 174
        }
      ]
    },
    {
      "cell_type": "markdown",
      "source": [
        "MODEL TRAINING"
      ],
      "metadata": {
        "id": "rYbjp32eVMgM"
      }
    },
    {
      "cell_type": "code",
      "source": [
        "from sklearn.neighbors import KNeighborsClassifier\n",
        "knn = KNeighborsClassifier(n_neighbors=3)\n",
        "knn.fit(x_train, y_train.ravel()) # ravel()used to convert an array to 1D array"
      ],
      "metadata": {
        "colab": {
          "base_uri": "https://localhost:8080/"
        },
        "id": "pZl4hLZMU0KH",
        "outputId": "44d7bbf3-d511-4647-96c3-32cf997c4257"
      },
      "execution_count": null,
      "outputs": [
        {
          "output_type": "execute_result",
          "data": {
            "text/plain": [
              "KNeighborsClassifier(n_neighbors=3)"
            ]
          },
          "metadata": {},
          "execution_count": 175
        }
      ]
    },
    {
      "cell_type": "code",
      "source": [
        "knn.score(x_test,y_test.ravel())"
      ],
      "metadata": {
        "id": "DzRAYF4SU0EM",
        "colab": {
          "base_uri": "https://localhost:8080/"
        },
        "outputId": "d73e82b7-7966-4735-d9b6-00c6dc57cf4f"
      },
      "execution_count": null,
      "outputs": [
        {
          "output_type": "execute_result",
          "data": {
            "text/plain": [
              "0.883"
            ]
          },
          "metadata": {},
          "execution_count": 176
        }
      ]
    },
    {
      "cell_type": "markdown",
      "source": [
        "choosing the parameter K"
      ],
      "metadata": {
        "id": "_f3X9V1sXMMg"
      }
    },
    {
      "cell_type": "code",
      "source": [
        "error= []\n",
        "for k in range(2,10):\n",
        "    knn = KNeighborsClassifier(k)\n",
        "    score=knn.fit(x_train,y_train.ravel()).score(x_test,y_test.ravel())\n",
        "    error.append(100*(1-score))\n",
        "plt.figure(figsize=(20,8))\n",
        "plt.plot(range(2,10),error, 'o-') \n",
        "plt.show()"
      ],
      "metadata": {
        "id": "xDNrh3LoU0CB",
        "colab": {
          "base_uri": "https://localhost:8080/",
          "height": 270
        },
        "outputId": "88e2ebfb-2e09-4a82-9d90-1935a883789e"
      },
      "execution_count": null,
      "outputs": [
        {
          "output_type": "display_data",
          "data": {
            "text/plain": [
              "<Figure size 1440x576 with 1 Axes>"
            ],
            "image/png": "[encoded data removed]"
          },
          "metadata": {
            "needs_background": "light"
          }
        }
      ]
    },
    {
      "cell_type": "markdown",
      "source": [
        "finding the lowest error"
      ],
      "metadata": {
        "id": "bLWfaevsYtHD"
      }
    },
    {
      "cell_type": "code",
      "source": [
        "min=error[0]\n",
        "index=0\n",
        "for i in range(1,len(error)):\n",
        "  if min>error[i]:\n",
        "    min=error[i]\n",
        "    index=i\n",
        "print(f\"The minimum value is: {min}\")\n",
        "print(f\"The k value is: {index+2}\") # k=index+2 because i=[0,..7] and K from[2,9]"
      ],
      "metadata": {
        "id": "UjVeg4ZJYaGF",
        "colab": {
          "base_uri": "https://localhost:8080/"
        },
        "outputId": "91ab611a-568a-464f-d5e8-4f5c4cc7149d"
      },
      "execution_count": null,
      "outputs": [
        {
          "output_type": "stream",
          "name": "stdout",
          "text": [
            "The minimum value is: 11.7\n",
            "The k value is: 3\n"
          ]
        }
      ]
    },
    {
      "cell_type": "markdown",
      "source": [
        "**Prediction**"
      ],
      "metadata": {
        "id": "uQjs2SNqKMz3"
      }
    },
    {
      "cell_type": "code",
      "source": [
        "knn=KNeighborsClassifier(4)\n",
        "knn.fit(x_train,y_train)"
      ],
      "metadata": {
        "id": "dTabK3yHYZ9O",
        "colab": {
          "base_uri": "https://localhost:8080/"
        },
        "outputId": "2690071a-15e0-4b4e-a132-61ca145f48da"
      },
      "execution_count": null,
      "outputs": [
        {
          "output_type": "stream",
          "name": "stderr",
          "text": [
            "/usr/local/lib/python3.7/dist-packages/sklearn/neighbors/_classification.py:198: DataConversionWarning: A column-vector y was passed when a 1d array was expected. Please change the shape of y to (n_samples,), for example using ravel().\n",
            "  return self._fit(X, y)\n"
          ]
        },
        {
          "output_type": "execute_result",
          "data": {
            "text/plain": [
              "KNeighborsClassifier(n_neighbors=4)"
            ]
          },
          "metadata": {},
          "execution_count": 179
        }
      ]
    },
    {
      "cell_type": "code",
      "source": [
        "knn.score(x_test,y_test)"
      ],
      "metadata": {
        "id": "RsV-iesyYZ5N",
        "colab": {
          "base_uri": "https://localhost:8080/"
        },
        "outputId": "1baa9d04-ec6e-4590-a39d-ac109b74fbd2"
      },
      "execution_count": null,
      "outputs": [
        {
          "output_type": "execute_result",
          "data": {
            "text/plain": [
              "0.878"
            ]
          },
          "metadata": {},
          "execution_count": 180
        }
      ]
    },
    {
      "cell_type": "code",
      "source": [
        "predicted=knn.predict(x_test)\n",
        "predicted.shape\n",
        "print(predicted)"
      ],
      "metadata": {
        "id": "8GqsyhMQYZ23",
        "colab": {
          "base_uri": "https://localhost:8080/"
        },
        "outputId": "072d3b5d-ef68-45e0-84f2-71cf8da5dcdf"
      },
      "execution_count": null,
      "outputs": [
        {
          "output_type": "stream",
          "name": "stdout",
          "text": [
            "[1 7 4 0 2 7 9 1 5 4 3 5 2 7 5 2 8 2 0 1 1 9 9 1 6 6 3 6 1 9 9 4 8 9 3 0 2\n",
            " 7 4 1 1 1 3 0 1 1 3 0 4 1 8 2 5 6 9 9 0 7 1 0 0 2 7 1 4 9 8 7 0 2 7 1 9 3\n",
            " 4 2 1 3 7 7 5 5 4 9 6 3 6 3 8 0 9 0 3 1 3 2 2 7 2 5 6 3 9 1 1 0 0 4 0 8 2\n",
            " 9 8 0 0 2 3 7 9 6 8 7 8 5 3 9 9 9 4 2 3 1 7 6 6 9 7 0 3 8 9 1 9 6 7 6 4 6\n",
            " 5 1 1 2 6 2 6 0 6 2 8 9 7 6 3 5 0 2 0 1 8 4 3 8 9 9 3 8 8 9 9 7 9 6 3 1 9\n",
            " 2 9 9 4 5 1 8 9 4 1 4 8 3 2 1 5 6 7 5 0 8 1 3 9 8 4 2 9 7 3 9 1 5 7 8 3 3\n",
            " 9 7 1 0 9 3 1 4 3 1 7 3 4 0 5 9 1 5 2 7 4 7 4 1 3 4 1 8 9 7 2 8 7 3 1 1 4\n",
            " 3 4 7 3 8 1 7 0 2 0 6 9 3 5 7 2 9 3 5 1 4 3 6 5 7 6 6 6 5 4 0 7 8 5 0 1 6\n",
            " 1 1 7 5 8 2 3 6 9 8 3 0 0 5 8 8 6 9 5 0 9 9 6 3 1 5 7 0 9 4 6 9 1 7 6 2 1\n",
            " 3 7 9 7 0 6 8 4 5 3 9 5 9 4 3 2 4 1 6 0 4 7 3 4 7 5 0 8 9 4 3 6 7 9 3 4 3\n",
            " 1 4 1 9 6 8 9 5 1 3 7 5 3 2 0 6 6 3 1 6 4 4 9 6 6 4 1 1 7 6 3 4 4 5 2 6 7\n",
            " 0 1 2 3 0 9 5 5 8 6 8 0 0 5 7 6 0 4 4 8 4 8 7 2 7 7 2 0 7 1 9 7 1 7 6 0 5\n",
            " 0 5 2 8 7 9 5 3 5 1 9 2 1 6 4 4 2 7 7 9 8 8 2 9 4 7 1 1 3 1 0 5 7 9 4 3 7\n",
            " 3 0 2 4 7 1 8 2 3 0 9 5 4 4 7 5 6 5 1 9 0 9 3 0 6 8 1 6 0 1 7 1 8 7 3 2 2\n",
            " 6 1 6 4 4 3 6 2 5 8 4 6 1 2 8 5 1 1 8 4 3 6 9 3 2 8 1 4 6 4 5 2 4 1 7 5 3\n",
            " 9 9 6 2 2 0 5 7 4 1 5 4 9 2 7 1 4 3 6 9 6 7 7 6 5 4 9 4 1 6 2 3 7 5 5 1 7\n",
            " 0 5 1 8 3 6 8 5 0 7 6 1 3 1 3 3 5 8 4 7 2 5 1 2 5 8 9 9 0 8 6 6 3 1 8 1 9\n",
            " 3 5 4 7 0 1 3 8 0 4 5 0 0 6 3 0 5 9 7 2 2 4 4 5 1 4 9 5 7 0 9 7 8 9 1 9 7\n",
            " 4 6 5 6 3 4 3 2 8 1 7 7 9 3 7 6 1 8 1 6 9 5 7 5 7 6 4 2 7 7 5 8 2 1 0 5 8\n",
            " 1 0 5 0 1 1 1 5 5 0 1 8 0 6 6 8 3 1 4 3 9 4 8 5 1 6 5 4 6 1 5 4 6 9 2 8 9\n",
            " 4 1 7 1 2 1 4 6 6 3 2 5 9 2 6 2 4 0 8 8 7 5 7 7 6 7 5 0 7 1 9 4 9 6 6 6 7\n",
            " 1 1 4 2 3 5 6 7 5 7 2 2 1 5 7 1 3 0 7 5 6 2 5 0 4 0 0 6 6 3 7 1 3 8 2 9 4\n",
            " 0 2 1 6 1 1 7 3 4 2 6 6 8 1 0 1 9 4 1 2 2 8 8 2 4 2 1 1 4 7 9 0 2 6 8 2 4\n",
            " 3 9 3 8 1 3 4 1 5 9 4 8 2 1 0 8 1 3 8 4 9 0 0 8 5 3 9 7 9 1 4 4 7 3 4 1 4\n",
            " 9 4 2 0 1 9 5 2 0 6 5 3 0 8 3 1 9 6 1 5 0 9 2 1 8 9 8 8 3 8 2 4 3 3 7 3 0\n",
            " 4 8 0 5 6 6 0 3 5 3 1 0 1 0 3 1 9 3 3 3 3 0 5 1 1 4 0 9 1 9 2 4 2 6 5 5 9\n",
            " 3 9 5 9 1 7 4 4 4 5 7 1 4 6 6 0 0 7 1 2 1 4 2 9 9 2 3 8 9 0 9 4 3 1 9 3 6\n",
            " 4]\n"
          ]
        }
      ]
    },
    {
      "cell_type": "code",
      "source": [
        "images = x_test.reshape((-1,28, 28))\n",
        "images.shape"
      ],
      "metadata": {
        "id": "sJhk0pjAYZyP",
        "colab": {
          "base_uri": "https://localhost:8080/"
        },
        "outputId": "1cd6b116-1e31-49e5-d265-c8f5130db50b"
      },
      "execution_count": null,
      "outputs": [
        {
          "output_type": "execute_result",
          "data": {
            "text/plain": [
              "(1000, 28, 28)"
            ]
          },
          "metadata": {},
          "execution_count": 182
        }
      ]
    },
    {
      "cell_type": "code",
      "source": [
        "#choosing 12 images randomly from \"images\"\n",
        "selected_img = np.random.randint(images.shape[0], size=12)\n",
        "selected_img"
      ],
      "metadata": {
        "id": "nnucZzXRYZwE",
        "colab": {
          "base_uri": "https://localhost:8080/"
        },
        "outputId": "347f924e-42f1-45d0-9f85-1cab62954399"
      },
      "execution_count": null,
      "outputs": [
        {
          "output_type": "execute_result",
          "data": {
            "text/plain": [
              "array([176, 559, 253, 620, 365,  67, 331, 632, 461, 565, 803, 345])"
            ]
          },
          "metadata": {},
          "execution_count": 183
        }
      ]
    },
    {
      "cell_type": "code",
      "source": [
        "fig,ax = plt.subplots(3,4)\n",
        "for index, value in enumerate(selected_img):\n",
        "  plt.subplot(3,4,index+1)\n",
        "  plt.axis('off')\n",
        "  plt.imshow(images[value],cmap=plt.cm.gray_r)\n",
        "  plt.title('predicted : {}'.format(predicted[value]) )\n",
        "\n",
        "plt.show()"
      ],
      "metadata": {
        "id": "nxnNzF4oYZgH",
        "colab": {
          "base_uri": "https://localhost:8080/",
          "height": 264
        },
        "outputId": "6d909ed7-9c2d-4d54-a698-08a3d03d40eb"
      },
      "execution_count": null,
      "outputs": [
        {
          "output_type": "display_data",
          "data": {
            "text/plain": [
              "<Figure size 432x288 with 12 Axes>"
            ],
            "image/png": "[encoded data removed]"
          },
          "metadata": {
            "needs_background": "light"
          }
        }
      ]
    },
    {
      "cell_type": "markdown",
      "source": [
        "**CROSS VALIDATION**"
      ],
      "metadata": {
        "id": "I6oeFQevMdpn"
      }
    },
    {
      "cell_type": "code",
      "source": [
        "from sklearn.model_selection import cross_val_score"
      ],
      "metadata": {
        "id": "s5Yz4VEaYZRt"
      },
      "execution_count": null,
      "outputs": []
    },
    {
      "cell_type": "code",
      "source": [
        "KNN_model=KNeighborsClassifier(n_neighbors=1)\n",
        "cross_val_score(KNN_model,x_train,y_train.ravel(),cv=5,scoring='accuracy')"
      ],
      "metadata": {
        "colab": {
          "base_uri": "https://localhost:8080/"
        },
        "id": "RTrvSiRoMqQv",
        "outputId": "9a3c7ce7-c418-42cf-ebed-926eeaa912cc"
      },
      "execution_count": null,
      "outputs": [
        {
          "output_type": "execute_result",
          "data": {
            "text/plain": [
              "array([0.945  , 0.9375 , 0.94875, 0.93625, 0.9475 ])"
            ]
          },
          "metadata": {},
          "execution_count": 186
        }
      ]
    },
    {
      "cell_type": "code",
      "source": [
        "KNN_model=KNeighborsClassifier(n_neighbors=2)\n",
        "cross_val_score(KNN_model,x_train,y_train.ravel(),cv=5,scoring='accuracy')"
      ],
      "metadata": {
        "colab": {
          "base_uri": "https://localhost:8080/"
        },
        "id": "llfdRiQMM2Ej",
        "outputId": "f535a4dc-4b35-4a81-b6a9-35744a94e682"
      },
      "execution_count": null,
      "outputs": [
        {
          "output_type": "execute_result",
          "data": {
            "text/plain": [
              "array([0.9225 , 0.92625, 0.915  , 0.91875, 0.9475 ])"
            ]
          },
          "metadata": {},
          "execution_count": 187
        }
      ]
    },
    {
      "cell_type": "code",
      "source": [
        "KNN_model=KNeighborsClassifier(n_neighbors=3)\n",
        "cross_val_score(KNN_model,x_train,y_train.ravel(),cv=5,scoring='accuracy')"
      ],
      "metadata": {
        "colab": {
          "base_uri": "https://localhost:8080/"
        },
        "id": "P53nGIfmM6EK",
        "outputId": "6262177e-ac02-4684-f4f9-7a11a3a878ec"
      },
      "execution_count": null,
      "outputs": [
        {
          "output_type": "execute_result",
          "data": {
            "text/plain": [
              "array([0.9175, 0.925 , 0.925 , 0.9225, 0.9525])"
            ]
          },
          "metadata": {},
          "execution_count": 188
        }
      ]
    },
    {
      "cell_type": "markdown",
      "source": [
        "**VALIDATION CURVE**"
      ],
      "metadata": {
        "id": "v4bCzh1ENCsB"
      }
    },
    {
      "cell_type": "code",
      "source": [
        "from sklearn.model_selection import validation_curve"
      ],
      "metadata": {
        "id": "5Vcn8d3LNGK-"
      },
      "execution_count": null,
      "outputs": []
    },
    {
      "cell_type": "code",
      "source": [
        "k=np.arange(2,14)\n",
        "k"
      ],
      "metadata": {
        "colab": {
          "base_uri": "https://localhost:8080/"
        },
        "id": "3k5DdsA8NKt1",
        "outputId": "c1fdd44f-2ea0-4d02-b97d-7e9b8f48fc5b"
      },
      "execution_count": null,
      "outputs": [
        {
          "output_type": "execute_result",
          "data": {
            "text/plain": [
              "array([ 2,  3,  4,  5,  6,  7,  8,  9, 10, 11, 12, 13])"
            ]
          },
          "metadata": {},
          "execution_count": 190
        }
      ]
    },
    {
      "cell_type": "code",
      "source": [
        "KNN_model=KNeighborsClassifier()\n",
        "train_score,val_score=validation_curve(KNN_model,x_train,y_train.ravel(),param_name='n_neighbors',param_range=k,cv=5,scoring='accuracy')"
      ],
      "metadata": {
        "id": "OYAoSnWENP9n"
      },
      "execution_count": null,
      "outputs": []
    },
    {
      "cell_type": "code",
      "source": [
        "val_score.mean(axis=1)"
      ],
      "metadata": {
        "colab": {
          "base_uri": "https://localhost:8080/"
        },
        "id": "2R_5A9rANd2p",
        "outputId": "58e81f52-b663-445e-9c38-319d4e2fe1b5"
      },
      "execution_count": null,
      "outputs": [
        {
          "output_type": "execute_result",
          "data": {
            "text/plain": [
              "array([0.926  , 0.9285 , 0.925  , 0.92425, 0.9225 , 0.9195 , 0.91925,\n",
              "       0.91825, 0.91625, 0.91825, 0.91525, 0.9165 ])"
            ]
          },
          "metadata": {},
          "execution_count": 192
        }
      ]
    },
    {
      "cell_type": "code",
      "source": [
        "val_score.mean(axis=1).argmax()"
      ],
      "metadata": {
        "colab": {
          "base_uri": "https://localhost:8080/"
        },
        "id": "QCOAKP_2Nfiz",
        "outputId": "b1de944b-a5bf-4806-88aa-01acd7523433"
      },
      "execution_count": null,
      "outputs": [
        {
          "output_type": "execute_result",
          "data": {
            "text/plain": [
              "1"
            ]
          },
          "metadata": {},
          "execution_count": 193
        }
      ]
    },
    {
      "cell_type": "code",
      "source": [
        "train_score.mean(axis=1)"
      ],
      "metadata": {
        "colab": {
          "base_uri": "https://localhost:8080/"
        },
        "id": "hx2l4EhWNkCh",
        "outputId": "f1050605-1d3b-45e7-df1f-05b3e60774d5"
      },
      "execution_count": null,
      "outputs": [
        {
          "output_type": "execute_result",
          "data": {
            "text/plain": [
              "array([0.9710625, 0.9681875, 0.9554375, 0.9516875, 0.9459375, 0.942625 ,\n",
              "       0.940375 , 0.938625 , 0.9341875, 0.934375 , 0.93225  , 0.93075  ])"
            ]
          },
          "metadata": {},
          "execution_count": 194
        }
      ]
    },
    {
      "cell_type": "code",
      "source": [
        "train_score.mean(axis=1).argmax()"
      ],
      "metadata": {
        "colab": {
          "base_uri": "https://localhost:8080/"
        },
        "id": "VQkHdajXNj39",
        "outputId": "9e82e710-d652-4697-f1c2-738aeb2c3f02"
      },
      "execution_count": null,
      "outputs": [
        {
          "output_type": "execute_result",
          "data": {
            "text/plain": [
              "0"
            ]
          },
          "metadata": {},
          "execution_count": 195
        }
      ]
    },
    {
      "cell_type": "markdown",
      "source": [
        "**GRID SEARCH**"
      ],
      "metadata": {
        "id": "zWmBssvwN2We"
      }
    },
    {
      "cell_type": "code",
      "source": [
        "from sklearn.model_selection import GridSearchCV"
      ],
      "metadata": {
        "id": "zszk0wmHNjl-"
      },
      "execution_count": null,
      "outputs": []
    },
    {
      "cell_type": "code",
      "source": [
        "param_grid={'n_neighbors': np.arange(2,11),'metric':['euclidean','manhattan']}\n",
        "grid=GridSearchCV(KNN_model,param_grid,cv=5)\n",
        "grid.fit(x_train,y_train.ravel())"
      ],
      "metadata": {
        "colab": {
          "base_uri": "https://localhost:8080/"
        },
        "id": "hrQDdq-jZV87",
        "outputId": "24f44a0e-a7d1-4c68-f675-718fc783e8bf"
      },
      "execution_count": null,
      "outputs": [
        {
          "output_type": "execute_result",
          "data": {
            "text/plain": [
              "GridSearchCV(cv=5, estimator=KNeighborsClassifier(),\n",
              "             param_grid={'metric': ['euclidean', 'manhattan'],\n",
              "                         'n_neighbors': array([ 2,  3,  4,  5,  6,  7,  8,  9, 10])})"
            ]
          },
          "metadata": {},
          "execution_count": 197
        }
      ]
    },
    {
      "cell_type": "code",
      "source": [
        "print(grid.best_score_)\n",
        "print(grid.best_params_)"
      ],
      "metadata": {
        "colab": {
          "base_uri": "https://localhost:8080/"
        },
        "id": "tyC2Pm3gZV04",
        "outputId": "e433d228-b324-4c39-a530-1cc61bd41888"
      },
      "execution_count": null,
      "outputs": [
        {
          "output_type": "stream",
          "name": "stdout",
          "text": [
            "0.9285\n",
            "{'metric': 'euclidean', 'n_neighbors': 3}\n"
          ]
        }
      ]
    },
    {
      "cell_type": "code",
      "source": [
        "KNNmodel_best=grid.best_estimator_"
      ],
      "metadata": {
        "id": "-BC9Z2WqZVr3"
      },
      "execution_count": null,
      "outputs": []
    },
    {
      "cell_type": "code",
      "source": [
        "KNNmodel_best.score(x_test,y_test)"
      ],
      "metadata": {
        "colab": {
          "base_uri": "https://localhost:8080/"
        },
        "id": "ycR5wadDZVdl",
        "outputId": "0b12ac90-d26d-4ffa-c346-acf28ef8510a"
      },
      "execution_count": null,
      "outputs": [
        {
          "output_type": "execute_result",
          "data": {
            "text/plain": [
              "0.883"
            ]
          },
          "metadata": {},
          "execution_count": 200
        }
      ]
    },
    {
      "cell_type": "markdown",
      "source": [
        "**CONFUSION MATRIX**"
      ],
      "metadata": {
        "id": "9h55wDyQaZSI"
      }
    },
    {
      "cell_type": "code",
      "source": [
        "from sklearn.metrics import confusion_matrix"
      ],
      "metadata": {
        "id": "CBu8Am3xafIG"
      },
      "execution_count": null,
      "outputs": []
    },
    {
      "cell_type": "code",
      "source": [
        "confusion=confusion_matrix(y_test,KNNmodel_best.predict(x_test))"
      ],
      "metadata": {
        "id": "kaicRtniapFS"
      },
      "execution_count": null,
      "outputs": []
    },
    {
      "cell_type": "code",
      "source": [
        "sns.heatmap(confusion,annot=True, fmt='g', cbar=False, cmap='BuPu')\n",
        "plt.xlabel('Predicted Values')\n",
        "plt.ylabel('Actual Values')\n",
        "plt.title('matrice de confusion')\n",
        "plt.show()"
      ],
      "metadata": {
        "colab": {
          "base_uri": "https://localhost:8080/",
          "height": 295
        },
        "id": "G42mUYqlavEA",
        "outputId": "d41347d8-514c-46a8-8480-7b0fbe7d40e6"
      },
      "execution_count": null,
      "outputs": [
        {
          "output_type": "display_data",
          "data": {
            "text/plain": [
              "<Figure size 432x288 with 1 Axes>"
            ],
            "image/png": "[encoded data removed]"
          },
          "metadata": {
            "needs_background": "light"
          }
        }
      ]
    }
  ]
}